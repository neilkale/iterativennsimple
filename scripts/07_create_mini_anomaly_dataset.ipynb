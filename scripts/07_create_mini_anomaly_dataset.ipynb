{
 "cells": [
  {
   "cell_type": "code",
   "execution_count": 3,
   "metadata": {},
   "outputs": [],
   "source": [
    "import json\n",
    "import numpy as np\n",
    "\n",
    "data_dir = '../scripts/'"
   ]
  },
  {
   "cell_type": "code",
   "execution_count": 4,
   "metadata": {},
   "outputs": [],
   "source": [
    "# train_dataset = json.load(open(data_dir+'/RandomAnomaly_Train.json'))\n",
    "validate_dataset = json.load(open(data_dir+'/RandomAnomaly_Validate.json'))\n",
    "# test_dataset = json.load(open(data_dir+'/RandomAnomaly_Test.json'))"
   ]
  },
  {
   "cell_type": "code",
   "execution_count": 8,
   "metadata": {},
   "outputs": [],
   "source": [
    "mini_dataset = validate_dataset[0:1000]\n",
    "\n",
    "with open(\"RandomAnomaly_Mini.json\", \"w\") as outfile:\n",
    "    json.dump(mini_dataset, outfile)"
   ]
  },
  {
   "cell_type": "code",
   "execution_count": 9,
   "metadata": {},
   "outputs": [],
   "source": [
    "mini_dataset = json.load(open(data_dir+'/RandomAnomaly_Mini.json'))"
   ]
  }
 ],
 "metadata": {
  "kernelspec": {
   "display_name": "Python 3",
   "language": "python",
   "name": "python3"
  },
  "language_info": {
   "codemirror_mode": {
    "name": "ipython",
    "version": 3
   },
   "file_extension": ".py",
   "mimetype": "text/x-python",
   "name": "python",
   "nbconvert_exporter": "python",
   "pygments_lexer": "ipython3",
   "version": "3.11.5"
  }
 },
 "nbformat": 4,
 "nbformat_minor": 2
}
