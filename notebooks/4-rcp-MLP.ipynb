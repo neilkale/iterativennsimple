{
 "cells": [
  {
   "cell_type": "markdown",
   "id": "f6828844-3a74-49bd-8348-ceae45948da7",
   "metadata": {
    "id": "f6828844-3a74-49bd-8348-ceae45948da7"
   },
   "source": [
    "# Load data"
   ]
  },
  {
   "cell_type": "code",
   "execution_count": 1,
   "id": "a5713c2d-0108-4708-9f0d-021e183f6d1e",
   "metadata": {
    "id": "a5713c2d-0108-4708-9f0d-021e183f6d1e"
   },
   "outputs": [],
   "source": [
    "import torch\n",
    "import pandas as pd\n",
    "import matplotlib.pyplot as plt\n",
    "%matplotlib widget\n",
    "\n",
    "from iterativennsimple.Sequential2D import Sequential2D, Identity\n",
    "from iterativennsimple.Sequential1D import Sequential1D\n",
    "\n",
    "from iterativennsimple.utils.plot_2D_start_end import plot_2D_start_end"
   ]
  },
  {
   "cell_type": "code",
   "execution_count": 2,
   "id": "d0e79796",
   "metadata": {},
   "outputs": [],
   "source": [
    "# Turn a pandas dataframe into a pytorch tensor\n",
    "def df_to_tensor(df):\n",
    "    return torch.tensor(df.values, dtype=torch.float32)"
   ]
  },
  {
   "cell_type": "code",
   "execution_count": 3,
   "id": "9f5c3fcc-147d-4669-8ab2-3ddf16a88b4e",
   "metadata": {
    "id": "9f5c3fcc-147d-4669-8ab2-3ddf16a88b4e"
   },
   "outputs": [],
   "source": [
    "#name = 'regression_line'\n",
    "#name = 'pca_line'\n",
    "#name = 'circle'\n",
    "#name = 'regression_circle'\n",
    "#one_hot_y = False\n",
    "\n",
    "name = 'MNIST'\n",
    "one_hot_y = True\n",
    "\n",
    "# Read the start data\n",
    "z_start = pd.read_parquet(f'../data/processed/{name}_start.parquet')\n",
    "# Read the target data\n",
    "z_target = pd.read_parquet(f'../data/processed/{name}_target.parquet')"
   ]
  },
  {
   "cell_type": "markdown",
   "id": "78ba5bdc",
   "metadata": {},
   "source": [
    "## Data preprocessing"
   ]
  },
  {
   "cell_type": "code",
   "execution_count": 4,
   "id": "133ecd27",
   "metadata": {},
   "outputs": [],
   "source": [
    "z_start_tensor = df_to_tensor(z_start)\n",
    "z_target_tensor = df_to_tensor(z_target)\n",
    "\n",
    "# Only use the given number of sample\n",
    "max_num_samples = 1000\n",
    "num_samples = min(max_num_samples, z_start_tensor.shape[0])\n",
    "z_start_tensor = z_start_tensor[:num_samples]\n",
    "z_target_tensor = z_target_tensor[:num_samples]\n"
   ]
  },
  {
   "cell_type": "markdown",
   "id": "2d9b3a29",
   "metadata": {},
   "source": [
    "We have two views of the data, and here is where we reconcile them.   The dynamical systems view is to have vector $z_0$ (called \"z_start_tensor\" in the code) and $z_1$ (called \"z_target_tensor\" in the code) that are the initial and final states of the system.  We want to construct a function $f$ (or more precisely choose a set of parameters $\\theta$ that selects $f$ from some family of functions) such that $\\|f(z_0) - z_1\\|$ is small.  The machine learning view is to have a set of inputs $x$ (which is a subset of \"z_start_tensor\") and a set of outputs $y$ (which is a subset of \"z_target_tensor\") and to construct a function $g$ (or more precisely choose a set of parameters $\\phi$ that selects $g$ from some family of functions) such that $\\|g(x) - y\\|$ is small.   \n",
    "\n",
    "**The idea is to have $x$ and $y$ be subsets of $z_0$ and $z_1$ respectively!**   But how to do that!?"
   ]
  },
  {
   "cell_type": "markdown",
   "id": "4f1e3668",
   "metadata": {},
   "source": [
    "Let's begin by writing \n",
    "\n",
    "$$\n",
    "z_i=\n",
    "\\begin{bmatrix}\n",
    "x_i \\\\\n",
    "y_i \\\\\n",
    "\\end{bmatrix}\n",
    "$$\n",
    "\n",
    "and **we assume that $x_0=x_1$**.  This may seem odd at first glance, but is actually quite natural.  For example, in our MNIST example the starting image in $x_0$ and the target image in $x_1$ are the same.  It is merely the classification in $y_0$ and $y_1$ that are different.  I.e., $y_0$ contains some noisy classification or uniform prior of $x_0$ and $y_1$ contains the correct classification of $x_0$.  In the case of the MNIST data, we have $x_0=x_1$ and $y_0\\neq y_1$.\n",
    "\n",
    "So, in slighltly more detail we choose $z_0$ and $z_1$ so that\n",
    "\n",
    "$$\n",
    "z_0=\n",
    "\\begin{bmatrix}\n",
    "x_0 \\\\\n",
    "y_0 \\\\\n",
    "\\end{bmatrix}\n",
    "$$\n",
    "\n",
    "and\n",
    "\n",
    "$$\n",
    "z_1=\n",
    "\\begin{bmatrix}\n",
    "x_0 \\\\\n",
    "y_1 \\\\\n",
    "\\end{bmatrix}\n",
    "$$"
   ]
  },
  {
   "cell_type": "code",
   "execution_count": 5,
   "id": "701f8d98",
   "metadata": {},
   "outputs": [
    {
     "name": "stdout",
     "output_type": "stream",
     "text": [
      "torch.Size([794]) torch.Size([794])\n",
      "tensor(784) tensor(10)\n"
     ]
    }
   ],
   "source": [
    "\n",
    "# compute a mask for the data where every entry in each column is the same\n",
    "# this is used to remove columns that are constant\n",
    "mask = (z_start_tensor == z_target_tensor).all(axis=0)\n",
    "mask.shape\n",
    "x_mask = mask\n",
    "y_mask = ~mask\n",
    "\n",
    "# print out the shape of the masks\n",
    "print(x_mask.shape, y_mask.shape)\n",
    "\n",
    "# print out number of true entries in each mask\n",
    "print(x_mask.sum(), y_mask.sum())\n"
   ]
  },
  {
   "cell_type": "markdown",
   "id": "1880ae29-6269-42a9-870f-fb52bb18cf36",
   "metadata": {
    "id": "1880ae29-6269-42a9-870f-fb52bb18cf36"
   },
   "source": [
    "# MLP model"
   ]
  },
  {
   "cell_type": "markdown",
   "id": "11bc5490",
   "metadata": {},
   "source": [
    "Now we start using Sequential2D to build our model.  This requires a little massaging of the data.  In particlar, remember that we now have an iterative map of the form\n",
    "\n",
    "$$\n",
    "\\begin{bmatrix}\n",
    "I   & 0   & 0   & 0 \\\\\n",
    "f_1 & 0   & 0   & 0 \\\\\n",
    "0   & f_2 & 0   & 0 \\\\\n",
    "0   & 0   & f_3 & 0 \\\\\n",
    "\\end{bmatrix}\n",
    "$$\n",
    "\n",
    "and a state vector that combines $x$, $y$, and *the hidden layers* in the following way.\n",
    "\n",
    "$$\n",
    "\\begin{bmatrix}\n",
    "I   & 0   & 0   & 0 \\\\\n",
    "f_1 & 0   & 0   & 0 \\\\\n",
    "0   & f_2 & 0   & 0 \\\\\n",
    "0   & 0   & f_3 & 0 \\\\\n",
    "\\end{bmatrix}\n",
    "\\circ\n",
    "\\begin{bmatrix}\n",
    "x_0 \\\\\n",
    "h_1 \\\\\n",
    "h_2 \\\\\n",
    "y_0 \\\\\n",
    "\\end{bmatrix}\n",
    "$$"
   ]
  },
  {
   "cell_type": "markdown",
   "id": "0fc9ed2c",
   "metadata": {},
   "source": [
    "I am feeling a little silly today, so let's do the rest using Achilles and the Hare from Godel, Escher, Bach.\n",
    "\n",
    "![image.png](attachment:image.png)"
   ]
  },
  {
   "cell_type": "markdown",
   "id": "7daa36af",
   "metadata": {},
   "source": [
    "Achilles:  But... didn't you just say that an normal ML algorithm link and MLP ignores $y_0$?  Look, doesn't $y_0$ appear right up there?  \n",
    "\n",
    "Hare: Well, look at what happens after the first iteration.\n",
    "\n",
    "$$\n",
    "\\begin{bmatrix}\n",
    "I   & 0   & 0   & 0 \\\\\n",
    "f_1 & 0   & 0   & 0 \\\\\n",
    "0   & f_2 & 0   & 0 \\\\\n",
    "0   & 0   & f_3 & 0 \\\\\n",
    "\\end{bmatrix}\n",
    "\\circ\n",
    "\\begin{bmatrix}\n",
    "x_0 \\\\\n",
    "h_1 \\\\\n",
    "h_2 \\\\\n",
    "y_0 \\\\\n",
    "\\end{bmatrix}\n",
    "=\n",
    "\\begin{bmatrix}\n",
    "x_0 \\\\\n",
    "f_1(x_0) \\\\\n",
    "f_2(h_1) \\\\\n",
    "f_3(h_2) \\\\\n",
    "\\end{bmatrix}\n",
    "$$\n",
    "\n",
    "which **does not** contain $y_0$!  The MLP is cunningly designed to ignore the initial guess contained in $y_0$ :-)"
   ]
  },
  {
   "cell_type": "markdown",
   "id": "3c74a4ef",
   "metadata": {},
   "source": [
    "Achilles:  But... but... but...  what about the hidden layers $h_1$ and $h_2$?  Don't you need to choose them carefully since they are the input to the next layer\\iteration?  I remember reading that MLPs don't care about random initializations of the hidden layers since they will be overwritten by the training process!?\n",
    "\n",
    "Hare: Yes, but...  look at what happens after the second iteration.\n",
    "\n",
    "$$\n",
    "\\begin{bmatrix}\n",
    "I   & 0   & 0   & 0 \\\\\n",
    "f_1 & 0   & 0   & 0 \\\\\n",
    "0   & f_2 & 0   & 0 \\\\\n",
    "0   & 0   & f_3 & 0 \\\\\n",
    "\\end{bmatrix}\n",
    "\\circ\n",
    "\\begin{bmatrix}\n",
    "I   & 0   & 0   & 0 \\\\\n",
    "f_1 & 0   & 0   & 0 \\\\\n",
    "0   & f_2 & 0   & 0 \\\\\n",
    "0   & 0   & f_3 & 0 \\\\\n",
    "\\end{bmatrix}\n",
    "\\circ\n",
    "\\begin{bmatrix}\n",
    "x_0 \\\\\n",
    "h_1 \\\\\n",
    "h_2 \\\\\n",
    "y_0 \\\\\n",
    "\\end{bmatrix}\n",
    "=\n",
    "\\begin{bmatrix}\n",
    "x_0 \\\\\n",
    "f_1(x_0) \\\\\n",
    "f_2(f_1(x_0)) \\\\\n",
    "f_3(f_2(h_1)) \\\\\n",
    "\\end{bmatrix}\n",
    "$$\n"
   ]
  },
  {
   "cell_type": "markdown",
   "id": "19538528",
   "metadata": {},
   "source": [
    "Hare: And one more iteration gives\n",
    "\n",
    "$$\n",
    "\\begin{bmatrix}\n",
    "I   & 0   & 0   & 0 \\\\\n",
    "f_1 & 0   & 0   & 0 \\\\\n",
    "0   & f_2 & 0   & 0 \\\\\n",
    "0   & 0   & f_3 & 0 \\\\\n",
    "\\end{bmatrix}\n",
    "\\circ\n",
    "\\begin{bmatrix}\n",
    "I   & 0   & 0   & 0 \\\\\n",
    "f_1 & 0   & 0   & 0 \\\\\n",
    "0   & f_2 & 0   & 0 \\\\\n",
    "0   & 0   & f_3 & 0 \\\\\n",
    "\\end{bmatrix}\n",
    "\\circ\n",
    "\\begin{bmatrix}\n",
    "I   & 0   & 0   & 0 \\\\\n",
    "f_1 & 0   & 0   & 0 \\\\\n",
    "0   & f_2 & 0   & 0 \\\\\n",
    "0   & 0   & f_3 & 0 \\\\\n",
    "\\end{bmatrix}\n",
    "\\circ\n",
    "\\begin{bmatrix}\n",
    "x_0 \\\\\n",
    "h_1 \\\\\n",
    "h_2 \\\\\n",
    "y_0 \\\\\n",
    "\\end{bmatrix}\n",
    "=\n",
    "\\begin{bmatrix}\n",
    "x_0 \\\\\n",
    "f_1(x_0) \\\\\n",
    "f_2(f_1(x_0)) \\\\\n",
    "f_3(f_2(f_1(x_0))) \\\\\n",
    "\\end{bmatrix}\n",
    "$$\n",
    "\n",
    "Two neat things have happened. First notice that the hidden layers $h_1$ and $h_2$ have been overwritten by the training process, so their initiationlization is irrelevant.  Second, we have the last entry has the form $f_3(f_2(f_1(x_0)))$ which is exactly the form of the answer that the MLP would have given!"
   ]
  },
  {
   "cell_type": "markdown",
   "id": "1fddde4e",
   "metadata": {},
   "source": [
    "Hare:  So, the MLP is a cunningly designed iterative map that ignores the initial guess $y_0$ and the hidden layers $h_1$ and $h_2$ and gives the same answer as the iterative map that we are trying to learn!  "
   ]
  },
  {
   "cell_type": "code",
   "execution_count": 6,
   "id": "ebbc9b74-d7dc-4dd6-bb72-88ed57f5b63e",
   "metadata": {
    "id": "ebbc9b74-d7dc-4dd6-bb72-88ed57f5b63e"
   },
   "outputs": [],
   "source": [
    "input_size = int(x_mask.sum())\n",
    "h1_size = 20\n",
    "h2_size = 20\n",
    "output_size = int(y_mask.sum())\n",
    "\n",
    "x_idx = torch.arange(0, input_size)\n",
    "h_idx = torch.arange(input_size, input_size+h1_size+h2_size)\n",
    "y_idx = torch.arange(input_size+h1_size+h2_size, input_size+h1_size+h2_size+output_size)\n",
    "\n",
    "total_size = input_size + h1_size + h2_size + output_size\n",
    "\n",
    "iterations = 3\n",
    "\n",
    "I = Identity(in_features=input_size, out_features=input_size)\n",
    "f1 = Sequential1D(torch.nn.Linear(in_features=input_size, out_features=h1_size), \n",
    "                  torch.nn.ReLU(), \n",
    "                  in_features=input_size, out_features=h1_size)\n",
    "f2 = Sequential1D(torch.nn.Linear(in_features=h1_size, out_features=h2_size), \n",
    "                  torch.nn.ReLU(), \n",
    "                  in_features=h1_size,    out_features=h2_size)\n",
    "f3 = torch.nn.Linear(in_features=h2_size,    out_features=output_size)    \n",
    "\n",
    "in_features_list  = [input_size, h1_size, h2_size, output_size]\n",
    "out_features_list = [input_size, h1_size, h2_size, output_size]\n",
    "blocks = [[I,    None, None, None],\n",
    "          [f1,   None, None, None],\n",
    "          [None, f2,   None, None],\n",
    "          [None, None, f3,   None]]\n",
    "\n",
    "def transpose_blocks(blocks):\n",
    "    return [[blocks[j][i] for j in range(len(blocks))] for i in range(len(blocks[0]))]\n",
    "\n",
    "map = Sequential2D(\n",
    "    in_features_list=in_features_list,\n",
    "    out_features_list=out_features_list,\n",
    "    blocks=transpose_blocks(blocks)\n",
    ")   "
   ]
  },
  {
   "cell_type": "code",
   "execution_count": 7,
   "id": "c367059b",
   "metadata": {},
   "outputs": [],
   "source": [
    "zh_start_tensor = torch.cat((z_start_tensor[:, x_mask],\n",
    "                             torch.zeros(z_start_tensor.shape[0], len(h_idx)), \n",
    "                             z_start_tensor[:, y_mask]), dim=1)\n",
    "zh_target_tensor = torch.cat((z_target_tensor[:, x_mask], \n",
    "                             torch.zeros(z_target_tensor.shape[0], len(h_idx)), \n",
    "                             z_target_tensor[:, y_mask]), dim=1)"
   ]
  },
  {
   "cell_type": "code",
   "execution_count": 8,
   "id": "a7eeb2b8",
   "metadata": {},
   "outputs": [],
   "source": [
    "# a dataloader which returns a batch of start and target data\n",
    "class Data(torch.utils.data.Dataset):\n",
    "    def __init__(self, z_start, z_target):\n",
    "        self.z_start = z_start\n",
    "        self.z_target = z_target\n",
    "    def __len__(self):\n",
    "        return len(self.z_start)\n",
    "    def __getitem__(self, idx):\n",
    "        return self.z_start[idx], self.z_target[idx]\n",
    "    \n",
    "train_data = Data(zh_start_tensor, zh_target_tensor)\n",
    "train_loader = torch.utils.data.DataLoader(train_data, batch_size=512, shuffle=True)"
   ]
  },
  {
   "cell_type": "code",
   "execution_count": 9,
   "id": "7486ca78-5e1c-4f94-afb5-9015303aaa09",
   "metadata": {
    "colab": {
     "base_uri": "https://localhost:8080/",
     "height": 382,
     "referenced_widgets": [
      "915d05c1f046462ebe574b6b306b6110",
      "df24beefb77f4549b7beed2e23558980",
      "a5a6545605cb475fb4bd6db5d32b0b24",
      "5959c15bd28a4059b8952689490ebe2f",
      "a3075bdd01e047faa3f1246dabaedcc7",
      "4d5e173f3cdd465b9b40f8b23d270e8a",
      "4340e450c8c9444784e3ac188b9230df",
      "c81f9b0a5dee4db396442599cb295097",
      "faf8ff98c59b4951b62cd8ad4e1d5bfa",
      "a955f09104b54e37b262198a3807761c",
      "d4d3328dd8914927b619350b49b6f81c"
     ]
    },
    "id": "7486ca78-5e1c-4f94-afb5-9015303aaa09",
    "outputId": "e3247ec9-d372-4fda-c69e-654d985bc905"
   },
   "outputs": [],
   "source": [
    "# Define the loss function and optimizer\n",
    "criterion = torch.nn.MSELoss()\n",
    "optimizer = torch.optim.Adam(map.parameters(), lr=0.001)"
   ]
  },
  {
   "cell_type": "code",
   "execution_count": 10,
   "id": "cb50afb7",
   "metadata": {},
   "outputs": [
    {
     "name": "stdout",
     "output_type": "stream",
     "text": [
      "Epoch 0, Batch 1, Loss 0.11460313946008682\n",
      "Epoch 100, Batch 1, Loss 0.021735409274697304\n",
      "Epoch 200, Batch 1, Loss 0.010887546464800835\n",
      "Epoch 300, Batch 1, Loss 0.0071218968369066715\n",
      "Epoch 400, Batch 1, Loss 0.0038757380098104477\n"
     ]
    }
   ],
   "source": [
    "max_epochs = 500\n",
    "# Train the model\n",
    "for epoch in range(max_epochs):\n",
    "    for batch_idx, (start, target) in enumerate(train_loader):\n",
    "        optimizer.zero_grad()\n",
    "\n",
    "        mapped = start\n",
    "\n",
    "        loss = 0.0\n",
    "        for i in range(iterations):\n",
    "            mapped = map(mapped)\n",
    "\n",
    "        loss = criterion(mapped[:, y_idx], target[:, y_idx])\n",
    "        loss.backward()\n",
    "\n",
    "        optimizer.step()\n",
    "    if epoch % 100 == 0:\n",
    "        print(f'Epoch {epoch}, Batch {batch_idx}, Loss {loss.item()}')"
   ]
  },
  {
   "cell_type": "markdown",
   "id": "054793e0",
   "metadata": {},
   "source": [
    "# Training data"
   ]
  },
  {
   "cell_type": "code",
   "execution_count": 11,
   "id": "0545bf25",
   "metadata": {},
   "outputs": [],
   "source": [
    "def project(z_start, z_mapped, z_target, idx, one_hot=False):\n",
    "    if len(idx) == 1:\n",
    "        start = z_start[:, idx[0]]\n",
    "        target = z_target[:, idx[0]]\n",
    "        mapped = z_mapped[:, idx[0]]\n",
    "    else:\n",
    "        if one_hot:\n",
    "            start = torch.argmax(z_start[:, idx], dim=1)\n",
    "            target = torch.argmax(z_target[:, idx], dim=1)\n",
    "            mapped = torch.argmax(z_mapped[:, idx], dim=1)\n",
    "        else:\n",
    "            # Use PCA to reduce the dimensionality of the data\n",
    "            _, _, V = torch.svd(z_target[:, idx])\n",
    "            start = torch.matmul(z_start[:, idx], V[:, 0])\n",
    "            target = torch.matmul(z_target[:, idx], V[:, 0])\n",
    "            mapped = torch.matmul(z_mapped[:, idx], V[:, 0])\n",
    "    return start, mapped, target\n",
    "\n",
    "\n",
    "def my_plot(z_start, z_mapped, z_target, plot_points, x_idx, y_idx, one_hot_y=False):\n",
    "    start_x, mapped_x, target_x = project(z_start, z_mapped, z_target, x_idx)\n",
    "    start_y, mapped_y, target_y = project(z_start, z_mapped, z_target, y_idx, one_hot_y)\n",
    "    plot_2D_start_end(start_x, start_y,\n",
    "                      mapped_x, mapped_y, \n",
    "                      target_x, target_y, \n",
    "                      plot_points)"
   ]
  },
  {
   "cell_type": "code",
   "execution_count": 12,
   "id": "86109c30",
   "metadata": {},
   "outputs": [
    {
     "data": {
      "application/vnd.jupyter.widget-view+json": {
       "model_id": "73c235b4ca3b46eb9b875ce3987d01f1",
       "version_major": 2,
       "version_minor": 0
      },
      "image/png": "[encoded data removed]",
      "text/html": [
       "\n",
       "            <div style=\"display: inline-block;\">\n",
       "                <div class=\"jupyter-widgets widget-label\" style=\"text-align: center;\">\n",
       "                    Figure\n",
       "                </div>\n",
       "                <img src='data:image/png;base64,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' width=640.0/>\n",
       "            </div>\n",
       "        "
      ],
      "text/plain": [
       "Canvas(toolbar=Toolbar(toolitems=[('Home', 'Reset original view', 'home', 'home'), ('Back', 'Back to previous …"
      ]
     },
     "metadata": {},
     "output_type": "display_data"
    }
   ],
   "source": [
    "\n",
    "plot_iterations = 1\n",
    "\n",
    "mapped_tensor = zh_start_tensor\n",
    "for i in range(plot_iterations):\n",
    "    mapped_tensor = map(mapped_tensor)\n",
    "mapped_tensor = mapped_tensor.detach()\n",
    "\n",
    "my_plot(zh_start_tensor, mapped_tensor, zh_target_tensor, plot_points=10, x_idx=x_idx, y_idx=y_idx, one_hot_y=one_hot_y)\n"
   ]
  },
  {
   "cell_type": "code",
   "execution_count": 13,
   "id": "8ac074be-5d27-480a-83fe-e1161e9d69ef",
   "metadata": {
    "id": "8ac074be-5d27-480a-83fe-e1161e9d69ef"
   },
   "outputs": [
    {
     "data": {
      "application/vnd.jupyter.widget-view+json": {
       "model_id": "0fc80f82907b4c65b0eafeaebc646d77",
       "version_major": 2,
       "version_minor": 0
      },
      "image/png": "[encoded data removed]",
      "text/html": [
       "\n",
       "            <div style=\"display: inline-block;\">\n",
       "                <div class=\"jupyter-widgets widget-label\" style=\"text-align: center;\">\n",
       "                    Figure\n",
       "                </div>\n",
       "                <img src='data:image/png;base64,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' width=640.0/>\n",
       "            </div>\n",
       "        "
      ],
      "text/plain": [
       "Canvas(toolbar=Toolbar(toolitems=[('Home', 'Reset original view', 'home', 'home'), ('Back', 'Back to previous …"
      ]
     },
     "metadata": {},
     "output_type": "display_data"
    }
   ],
   "source": [
    "plot_iterations = iterations\n",
    "\n",
    "mapped_tensor = zh_start_tensor\n",
    "for i in range(plot_iterations):\n",
    "    mapped_tensor = map(mapped_tensor)\n",
    "mapped_tensor = mapped_tensor.detach()\n",
    "\n",
    "my_plot(zh_start_tensor, mapped_tensor, zh_target_tensor, plot_points=10, x_idx=x_idx, y_idx=y_idx, one_hot_y=one_hot_y)"
   ]
  },
  {
   "cell_type": "markdown",
   "id": "ea123cd4",
   "metadata": {},
   "source": [
    "# Path"
   ]
  },
  {
   "cell_type": "code",
   "execution_count": 14,
   "id": "911b76b9",
   "metadata": {},
   "outputs": [
    {
     "data": {
      "application/vnd.jupyter.widget-view+json": {
       "model_id": "5394b49ea95043baa6f86ec18add85a7",
       "version_major": 2,
       "version_minor": 0
      },
      "image/png": "[encoded data removed]",
      "text/html": [
       "\n",
       "            <div style=\"display: inline-block;\">\n",
       "                <div class=\"jupyter-widgets widget-label\" style=\"text-align: center;\">\n",
       "                    Figure\n",
       "                </div>\n",
       "                <img src='data:image/png;base64,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' width=640.0/>\n",
       "            </div>\n",
       "        "
      ],
      "text/plain": [
       "Canvas(toolbar=Toolbar(toolitems=[('Home', 'Reset original view', 'home', 'home'), ('Back', 'Back to previous …"
      ]
     },
     "metadata": {},
     "output_type": "display_data"
    }
   ],
   "source": [
    "plot_points = 10\n",
    "\n",
    "\n",
    "mapped_tensors = [zh_start_tensor[:plot_points, :]]\n",
    "for i in range(iterations):\n",
    "    mapped_tensors.append(map(mapped_tensors[i]).detach())\n",
    "\n",
    "\n",
    "plt.figure()\n",
    "\n",
    "for i, mapped_tensor in enumerate(mapped_tensors):\n",
    "    if i > 0:\n",
    "        start = mapped_tensors[i-1]\n",
    "        mapped = mapped_tensors[i]\n",
    "\n",
    "        start_x, mapped_x, target_x = project(start, mapped, zh_target_tensor, idx=x_idx)\n",
    "        start_y, mapped_y, target_y = project(start, mapped, zh_target_tensor, idx=y_idx, one_hot=one_hot_y)\n",
    "\n",
    "        dx = mapped_x-start_x\n",
    "        dy = mapped_y-start_y\n",
    "        plt.quiver(start_x, start_y, dx, dy, scale=1, scale_units='xy', angles='xy', color='r', width=0.005)\n",
    "\n",
    "plt.scatter(target_x, target_y, s=1)\n",
    "\n",
    "plt.gca().set_aspect('equal')\n",
    "plt.show()"
   ]
  },
  {
   "cell_type": "markdown",
   "id": "a8d68302",
   "metadata": {},
   "source": [
    "# Testing data"
   ]
  },
  {
   "cell_type": "code",
   "execution_count": 15,
   "id": "1c14b142",
   "metadata": {},
   "outputs": [
    {
     "data": {
      "application/vnd.jupyter.widget-view+json": {
       "model_id": "7a593b37605d49ba8692033ab6ca55ef",
       "version_major": 2,
       "version_minor": 0
      },
      "image/png": "[encoded data removed]",
      "text/html": [
       "\n",
       "            <div style=\"display: inline-block;\">\n",
       "                <div class=\"jupyter-widgets widget-label\" style=\"text-align: center;\">\n",
       "                    Figure\n",
       "                </div>\n",
       "                <img src='data:image/png;base64,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' width=640.0/>\n",
       "            </div>\n",
       "        "
      ],
      "text/plain": [
       "Canvas(toolbar=Toolbar(toolitems=[('Home', 'Reset original view', 'home', 'home'), ('Back', 'Back to previous …"
      ]
     },
     "metadata": {},
     "output_type": "display_data"
    }
   ],
   "source": [
    "zh_start_tensor_test = zh_start_tensor+torch.rand_like(zh_start_tensor)*0.2\n",
    "mapped_tensor = zh_start_tensor_test\n",
    "for i in range(iterations):\n",
    "    mapped_tensor = map(mapped_tensor)\n",
    "mapped_tensor = mapped_tensor.detach()\n",
    "\n",
    "my_plot(zh_start_tensor_test, mapped_tensor, zh_target_tensor, plot_points=10, x_idx=x_idx, y_idx=y_idx, one_hot_y=one_hot_y)\n"
   ]
  },
  {
   "cell_type": "code",
   "execution_count": 16,
   "id": "5e549cdb",
   "metadata": {},
   "outputs": [
    {
     "name": "stdout",
     "output_type": "stream",
     "text": [
      "i = 447\n",
      "tensor([0.1995, 0.2905, 0.1062, 0.2142, 0.2949, 0.2984, 0.2984, 0.1477, 0.1380,\n",
      "        0.2879])\n",
      "tensor([ 0.0166,  0.7605,  0.0277,  0.0048,  0.0043,  0.0633,  0.0249,  0.0194,\n",
      "         0.0662, -0.0419])\n",
      "tensor([0., 1., 0., 0., 0., 0., 0., 0., 0., 0.])\n",
      "6 -> 1 -> 1\n",
      "i = 92\n",
      "tensor([0.1757, 0.2896, 0.1638, 0.2170, 0.2940, 0.1718, 0.1489, 0.2911, 0.2331,\n",
      "        0.1404])\n",
      "tensor([-0.0370,  0.0023, -0.0183, -0.0262,  0.0462, -0.0365,  0.9709,  0.0197,\n",
      "         0.0108, -0.0256])\n",
      "tensor([0., 0., 0., 0., 0., 0., 1., 0., 0., 0.])\n",
      "4 -> 6 -> 6\n",
      "i = 441\n",
      "tensor([0.2694, 0.2458, 0.2999, 0.2026, 0.2885, 0.2243, 0.2157, 0.1491, 0.2970,\n",
      "        0.1186])\n",
      "tensor([-0.0069,  0.0247, -0.0337,  0.0085,  0.0402,  0.0095,  0.9683, -0.0267,\n",
      "        -0.0447,  0.0028])\n",
      "tensor([0., 0., 0., 0., 0., 0., 1., 0., 0., 0.])\n",
      "2 -> 6 -> 6\n",
      "i = 759\n",
      "tensor([0.2891, 0.1598, 0.1279, 0.1756, 0.1257, 0.1427, 0.2581, 0.2730, 0.1925,\n",
      "        0.2162])\n",
      "tensor([ 0.0154,  0.0859,  0.0887, -0.0415,  0.0083,  0.0769, -0.0019, -0.0446,\n",
      "        -0.0475,  0.8477])\n",
      "tensor([0., 0., 0., 0., 0., 0., 0., 0., 0., 1.])\n",
      "0 -> 9 -> 9\n",
      "i = 120\n",
      "tensor([0.2398, 0.1327, 0.2831, 0.1575, 0.2727, 0.2804, 0.1881, 0.1240, 0.1570,\n",
      "        0.2194])\n",
      "tensor([ 0.0331,  0.0051,  0.0133, -0.0366,  0.7505,  0.0459,  0.0336,  0.0033,\n",
      "         0.0276, -0.0093])\n",
      "tensor([0., 0., 0., 0., 1., 0., 0., 0., 0., 0.])\n",
      "2 -> 4 -> 4\n"
     ]
    }
   ],
   "source": [
    "for i in torch.randperm(zh_start_tensor.shape[0])[:5]:\n",
    "    print(f'i = {i}')    \n",
    "    print(zh_start_tensor_test[i,y_idx])\n",
    "    print(mapped_tensor[i,y_idx])\n",
    "    print(zh_target_tensor[i,y_idx])\n",
    "    print(f'{torch.argmax(zh_start_tensor_test[i,y_idx])} -> {torch.argmax(mapped_tensor[i,y_idx])} -> {torch.argmax(zh_target_tensor[i,y_idx])}')\n",
    "\n"
   ]
  },
  {
   "cell_type": "code",
   "execution_count": null,
   "metadata": {},
   "outputs": [],
   "source": []
  }
 ],
 "metadata": {
  "accelerator": "GPU",
  "colab": {
   "include_colab_link": true,
   "provenance": []
  },
  "gpuClass": "standard",
  "jupytext": {
   "formats": "ipynb,py:percent,md"
  },
  "kernelspec": {
   "display_name": "Python 3 (ipykernel)",
   "language": "python",
   "name": "python3"
  },
  "language_info": {
   "codemirror_mode": {
    "name": "ipython",
    "version": 3
   },
   "file_extension": ".py",
   "mimetype": "text/x-python",
   "name": "python",
   "nbconvert_exporter": "python",
   "pygments_lexer": "ipython3",
   "version": "3.10.12"
  },
  "widgets": {
   "application/vnd.jupyter.widget-state+json": {
    "4340e450c8c9444784e3ac188b9230df": {
     "model_module": "@jupyter-widgets/controls",
     "model_module_version": "1.5.0",
     "model_name": "DescriptionStyleModel",
     "state": {
      "_model_module": "@jupyter-widgets/controls",
      "_model_module_version": "1.5.0",
      "_model_name": "DescriptionStyleModel",
      "_view_count": null,
      "_view_module": "@jupyter-widgets/base",
      "_view_module_version": "1.2.0",
      "_view_name": "StyleView",
      "description_width": ""
     }
    },
    "4d5e173f3cdd465b9b40f8b23d270e8a": {
     "model_module": "@jupyter-widgets/base",
     "model_module_version": "1.2.0",
     "model_name": "LayoutModel",
     "state": {
      "_model_module": "@jupyter-widgets/base",
      "_model_module_version": "1.2.0",
      "_model_name": "LayoutModel",
      "_view_count": null,
      "_view_module": "@jupyter-widgets/base",
      "_view_module_version": "1.2.0",
      "_view_name": "LayoutView",
      "align_content": null,
      "align_items": null,
      "align_self": null,
      "border": null,
      "bottom": null,
      "display": null,
      "flex": null,
      "flex_flow": null,
      "grid_area": null,
      "grid_auto_columns": null,
      "grid_auto_flow": null,
      "grid_auto_rows": null,
      "grid_column": null,
      "grid_gap": null,
      "grid_row": null,
      "grid_template_areas": null,
      "grid_template_columns": null,
      "grid_template_rows": null,
      "height": null,
      "justify_content": null,
      "justify_items": null,
      "left": null,
      "margin": null,
      "max_height": null,
      "max_width": null,
      "min_height": null,
      "min_width": null,
      "object_fit": null,
      "object_position": null,
      "order": null,
      "overflow": null,
      "overflow_x": null,
      "overflow_y": null,
      "padding": null,
      "right": null,
      "top": null,
      "visibility": null,
      "width": null
     }
    },
    "5959c15bd28a4059b8952689490ebe2f": {
     "model_module": "@jupyter-widgets/controls",
     "model_module_version": "1.5.0",
     "model_name": "HTMLModel",
     "state": {
      "_dom_classes": [],
      "_model_module": "@jupyter-widgets/controls",
      "_model_module_version": "1.5.0",
      "_model_name": "HTMLModel",
      "_view_count": null,
      "_view_module": "@jupyter-widgets/controls",
      "_view_module_version": "1.5.0",
      "_view_name": "HTMLView",
      "description": "",
      "description_tooltip": null,
      "layout": "IPY_MODEL_a955f09104b54e37b262198a3807761c",
      "placeholder": "​",
      "style": "IPY_MODEL_d4d3328dd8914927b619350b49b6f81c",
      "value": " 999/999 [00:08&lt;00:00, 114.60it/s, loss=0.000293, v_num=0]"
     }
    },
    "915d05c1f046462ebe574b6b306b6110": {
     "model_module": "@jupyter-widgets/controls",
     "model_module_version": "1.5.0",
     "model_name": "HBoxModel",
     "state": {
      "_dom_classes": [],
      "_model_module": "@jupyter-widgets/controls",
      "_model_module_version": "1.5.0",
      "_model_name": "HBoxModel",
      "_view_count": null,
      "_view_module": "@jupyter-widgets/controls",
      "_view_module_version": "1.5.0",
      "_view_name": "HBoxView",
      "box_style": "",
      "children": [
       "IPY_MODEL_df24beefb77f4549b7beed2e23558980",
       "IPY_MODEL_a5a6545605cb475fb4bd6db5d32b0b24",
       "IPY_MODEL_5959c15bd28a4059b8952689490ebe2f"
      ],
      "layout": "IPY_MODEL_a3075bdd01e047faa3f1246dabaedcc7"
     }
    },
    "a3075bdd01e047faa3f1246dabaedcc7": {
     "model_module": "@jupyter-widgets/base",
     "model_module_version": "1.2.0",
     "model_name": "LayoutModel",
     "state": {
      "_model_module": "@jupyter-widgets/base",
      "_model_module_version": "1.2.0",
      "_model_name": "LayoutModel",
      "_view_count": null,
      "_view_module": "@jupyter-widgets/base",
      "_view_module_version": "1.2.0",
      "_view_name": "LayoutView",
      "align_content": null,
      "align_items": null,
      "align_self": null,
      "border": null,
      "bottom": null,
      "display": "inline-flex",
      "flex": null,
      "flex_flow": "row wrap",
      "grid_area": null,
      "grid_auto_columns": null,
      "grid_auto_flow": null,
      "grid_auto_rows": null,
      "grid_column": null,
      "grid_gap": null,
      "grid_row": null,
      "grid_template_areas": null,
      "grid_template_columns": null,
      "grid_template_rows": null,
      "height": null,
      "justify_content": null,
      "justify_items": null,
      "left": null,
      "margin": null,
      "max_height": null,
      "max_width": null,
      "min_height": null,
      "min_width": null,
      "object_fit": null,
      "object_position": null,
      "order": null,
      "overflow": null,
      "overflow_x": null,
      "overflow_y": null,
      "padding": null,
      "right": null,
      "top": null,
      "visibility": null,
      "width": "100%"
     }
    },
    "a5a6545605cb475fb4bd6db5d32b0b24": {
     "model_module": "@jupyter-widgets/controls",
     "model_module_version": "1.5.0",
     "model_name": "FloatProgressModel",
     "state": {
      "_dom_classes": [],
      "_model_module": "@jupyter-widgets/controls",
      "_model_module_version": "1.5.0",
      "_model_name": "FloatProgressModel",
      "_view_count": null,
      "_view_module": "@jupyter-widgets/controls",
      "_view_module_version": "1.5.0",
      "_view_name": "ProgressView",
      "bar_style": "success",
      "description": "",
      "description_tooltip": null,
      "layout": "IPY_MODEL_c81f9b0a5dee4db396442599cb295097",
      "max": 999,
      "min": 0,
      "orientation": "horizontal",
      "style": "IPY_MODEL_faf8ff98c59b4951b62cd8ad4e1d5bfa",
      "value": 999
     }
    },
    "a955f09104b54e37b262198a3807761c": {
     "model_module": "@jupyter-widgets/base",
     "model_module_version": "1.2.0",
     "model_name": "LayoutModel",
     "state": {
      "_model_module": "@jupyter-widgets/base",
      "_model_module_version": "1.2.0",
      "_model_name": "LayoutModel",
      "_view_count": null,
      "_view_module": "@jupyter-widgets/base",
      "_view_module_version": "1.2.0",
      "_view_name": "LayoutView",
      "align_content": null,
      "align_items": null,
      "align_self": null,
      "border": null,
      "bottom": null,
      "display": null,
      "flex": null,
      "flex_flow": null,
      "grid_area": null,
      "grid_auto_columns": null,
      "grid_auto_flow": null,
      "grid_auto_rows": null,
      "grid_column": null,
      "grid_gap": null,
      "grid_row": null,
      "grid_template_areas": null,
      "grid_template_columns": null,
      "grid_template_rows": null,
      "height": null,
      "justify_content": null,
      "justify_items": null,
      "left": null,
      "margin": null,
      "max_height": null,
      "max_width": null,
      "min_height": null,
      "min_width": null,
      "object_fit": null,
      "object_position": null,
      "order": null,
      "overflow": null,
      "overflow_x": null,
      "overflow_y": null,
      "padding": null,
      "right": null,
      "top": null,
      "visibility": null,
      "width": null
     }
    },
    "c81f9b0a5dee4db396442599cb295097": {
     "model_module": "@jupyter-widgets/base",
     "model_module_version": "1.2.0",
     "model_name": "LayoutModel",
     "state": {
      "_model_module": "@jupyter-widgets/base",
      "_model_module_version": "1.2.0",
      "_model_name": "LayoutModel",
      "_view_count": null,
      "_view_module": "@jupyter-widgets/base",
      "_view_module_version": "1.2.0",
      "_view_name": "LayoutView",
      "align_content": null,
      "align_items": null,
      "align_self": null,
      "border": null,
      "bottom": null,
      "display": null,
      "flex": "2",
      "flex_flow": null,
      "grid_area": null,
      "grid_auto_columns": null,
      "grid_auto_flow": null,
      "grid_auto_rows": null,
      "grid_column": null,
      "grid_gap": null,
      "grid_row": null,
      "grid_template_areas": null,
      "grid_template_columns": null,
      "grid_template_rows": null,
      "height": null,
      "justify_content": null,
      "justify_items": null,
      "left": null,
      "margin": null,
      "max_height": null,
      "max_width": null,
      "min_height": null,
      "min_width": null,
      "object_fit": null,
      "object_position": null,
      "order": null,
      "overflow": null,
      "overflow_x": null,
      "overflow_y": null,
      "padding": null,
      "right": null,
      "top": null,
      "visibility": null,
      "width": null
     }
    },
    "d4d3328dd8914927b619350b49b6f81c": {
     "model_module": "@jupyter-widgets/controls",
     "model_module_version": "1.5.0",
     "model_name": "DescriptionStyleModel",
     "state": {
      "_model_module": "@jupyter-widgets/controls",
      "_model_module_version": "1.5.0",
      "_model_name": "DescriptionStyleModel",
      "_view_count": null,
      "_view_module": "@jupyter-widgets/base",
      "_view_module_version": "1.2.0",
      "_view_name": "StyleView",
      "description_width": ""
     }
    },
    "df24beefb77f4549b7beed2e23558980": {
     "model_module": "@jupyter-widgets/controls",
     "model_module_version": "1.5.0",
     "model_name": "HTMLModel",
     "state": {
      "_dom_classes": [],
      "_model_module": "@jupyter-widgets/controls",
      "_model_module_version": "1.5.0",
      "_model_name": "HTMLModel",
      "_view_count": null,
      "_view_module": "@jupyter-widgets/controls",
      "_view_module_version": "1.5.0",
      "_view_name": "HTMLView",
      "description": "",
      "description_tooltip": null,
      "layout": "IPY_MODEL_4d5e173f3cdd465b9b40f8b23d270e8a",
      "placeholder": "​",
      "style": "IPY_MODEL_4340e450c8c9444784e3ac188b9230df",
      "value": "Epoch 9: 100%"
     }
    },
    "faf8ff98c59b4951b62cd8ad4e1d5bfa": {
     "model_module": "@jupyter-widgets/controls",
     "model_module_version": "1.5.0",
     "model_name": "ProgressStyleModel",
     "state": {
      "_model_module": "@jupyter-widgets/controls",
      "_model_module_version": "1.5.0",
      "_model_name": "ProgressStyleModel",
      "_view_count": null,
      "_view_module": "@jupyter-widgets/base",
      "_view_module_version": "1.2.0",
      "_view_name": "StyleView",
      "bar_color": null,
      "description_width": ""
     }
    }
   }
  }
 },
 "nbformat": 4,
 "nbformat_minor": 5
}
